{
  "nbformat": 4,
  "nbformat_minor": 0,
  "metadata": {
    "colab": {
      "provenance": [],
      "authorship_tag": "ABX9TyP9R7BXzNHk8SzodFD+cyWo",
      "include_colab_link": true
    },
    "kernelspec": {
      "name": "python3",
      "display_name": "Python 3"
    },
    "language_info": {
      "name": "python"
    }
  },
  "cells": [
    {
      "cell_type": "markdown",
      "metadata": {
        "id": "view-in-github",
        "colab_type": "text"
      },
      "source": [
        "<a href=\"https://colab.research.google.com/github/AfiqAkhtar/Foundations-of-Data-Science-with-Python/blob/Afiq-Akhtar-18156687-Semester1-2024-Tues-9am/First_Computer_Simulations_Is_This_Coin_Fair%3F.ipynb\" target=\"_parent\"><img src=\"https://colab.research.google.com/assets/colab-badge.svg\" alt=\"Open In Colab\"/></a>"
      ]
    },
    {
      "cell_type": "markdown",
      "source": [
        "##2.2 First Computer Simulation"
      ],
      "metadata": {
        "id": "pFEMjilv9rW7"
      }
    },
    {
      "cell_type": "markdown",
      "source": [
        "###A computer simulation is a computer program that models reality and allows us to conduct experiments that:\n",
        "\n",
        "1) would require a lot of time to do in real life\n",
        "\n",
        "2) would require a lot of resources to pull off in real life\n",
        "\n",
        "3) would not be possible to repeat in real life (e.g. simulation of tomorrow's weather or price of an asset)"
      ],
      "metadata": {
        "id": "riMRrneo8t6T"
      }
    },
    {
      "cell_type": "markdown",
      "source": [
        "###Simulating a fair coin by randomly choosing a result from a list that contains values representing heads and tails. Each element in the list is equally likely to be chosen"
      ],
      "metadata": {
        "id": "-pbpqQog-DTK"
      }
    },
    {
      "cell_type": "code",
      "source": [
        "# Use string 'H' and 'T' to denote heads and tails of a coin\n",
        "coin_faces = ['H', 'T']"
      ],
      "metadata": {
        "id": "zaIn7Lgl-Zqo"
      },
      "execution_count": 3,
      "outputs": []
    },
    {
      "cell_type": "markdown",
      "source": [
        "#### Import Random is to access the random module:\n",
        "\n",
        "##### To generate random numbers and perform random operations:\n",
        "\n",
        "##### Generate random integers, floats and random numbers within a specific range, random.randint(1,10) - Generates a random integer between 1 and 10\n",
        "##### Randomly select an item from a list or sequence, random.choice()\n",
        "##### Randomly shuffle the elements of a list, random.shuffle()\n",
        "##### Obtain a random sample of elements from a list, random.sample()"
      ],
      "metadata": {
        "id": "sU7HHbGyp9fX"
      }
    },
    {
      "cell_type": "code",
      "source": [
        "# Use the random module to randomly choose either head or tail\n",
        "import random"
      ],
      "metadata": {
        "id": "MCG7DQqt_Bvs"
      },
      "execution_count": 1,
      "outputs": []
    },
    {
      "cell_type": "code",
      "source": [
        "# Use random.choice() function to choose either head or tail at one time\n",
        "random.choice(coin_faces)"
      ],
      "metadata": {
        "colab": {
          "base_uri": "https://localhost:8080/",
          "height": 36
        },
        "id": "30P4mMPq_ZY1",
        "outputId": "5bdc43f9-e01a-4daf-804d-a214acbedfcf"
      },
      "execution_count": 4,
      "outputs": [
        {
          "output_type": "execute_result",
          "data": {
            "text/plain": [
              "'T'"
            ],
            "application/vnd.google.colaboratory.intrinsic+json": {
              "type": "string"
            }
          },
          "metadata": {},
          "execution_count": 4
        }
      ]
    },
    {
      "cell_type": "code",
      "source": [
        "# Simulate by choosing 30 random faces using a loop using random.choices() function\n",
        "coin_results = random.choices(coin_faces, k=30)\n",
        "print(coin_results)"
      ],
      "metadata": {
        "colab": {
          "base_uri": "https://localhost:8080/"
        },
        "id": "dragwgIs_-70",
        "outputId": "5074b320-86e5-4ec1-8d60-6ac6c9926be0"
      },
      "execution_count": 5,
      "outputs": [
        {
          "output_type": "stream",
          "name": "stdout",
          "text": [
            "['H', 'H', 'T', 'T', 'T', 'H', 'H', 'H', 'T', 'H', 'H', 'H', 'T', 'T', 'T', 'H', 'T', 'T', 'T', 'T', 'T', 'H', 'H', 'T', 'H', 'H', 'H', 'T', 'T', 'T']\n"
          ]
        }
      ]
    },
    {
      "cell_type": "code",
      "source": [
        "# Use the count() method of the list object\n",
        "coin_results.count('H')"
      ],
      "metadata": {
        "colab": {
          "base_uri": "https://localhost:8080/"
        },
        "id": "h5Pfe7xUAqzu",
        "outputId": "e09554fe-1be4-42d0-eba0-bf8282878ee2"
      },
      "execution_count": 6,
      "outputs": [
        {
          "output_type": "execute_result",
          "data": {
            "text/plain": [
              "14"
            ]
          },
          "metadata": {},
          "execution_count": 6
        }
      ]
    },
    {
      "cell_type": "markdown",
      "source": [
        "###Running the code each time will generate a new list of coin faces which alters the result displaying the number of heads from the coin flip\n",
        "\n",
        "####To estimate the probability, we will have to run this statement multiple times and monitor the results which is time-consuming and error-prone"
      ],
      "metadata": {
        "id": "nSgAZwDSBMzg"
      }
    },
    {
      "cell_type": "code",
      "source": [
        "# Use the computer to automatically to run the simulation multiple times\n",
        "\n",
        "num_sims = 30 # number of simulation\n",
        "num_flips = 30 # number of times to flip the coin\n",
        "\n",
        "for sim in range(num_sims): # The simulation loop\n",
        "  coin_results = random.choices(coin_faces, k=num_flips) # Simulate all coin flips for one experiment\n",
        "  print(coin_results.count('H'), end=' ')\n",
        "\n",
        "# This script runs the simulation 30 times, flipping the coin 30 times in each simulation\n",
        "# Then it prints the number of heads ('H') for each simulation"
      ],
      "metadata": {
        "colab": {
          "base_uri": "https://localhost:8080/"
        },
        "id": "q4rLvbtQCDi9",
        "outputId": "55d345df-92f7-42f8-ef98-95618b4627f0"
      },
      "execution_count": 7,
      "outputs": [
        {
          "output_type": "stream",
          "name": "stdout",
          "text": [
            "17 15 14 18 18 17 18 19 17 9 14 11 18 12 18 17 15 13 15 13 20 9 11 14 18 13 20 11 16 12 "
          ]
        }
      ]
    },
    {
      "cell_type": "markdown",
      "source": [
        "##2.3 Scatter Plots and **Histograms**"
      ],
      "metadata": {
        "id": "LFd2kPhaERDa"
      }
    },
    {
      "cell_type": "markdown",
      "source": [
        "###Before confirming if the coin is fair, consider how to visualise the results from the simulation"
      ],
      "metadata": {
        "id": "FuTW12_qEZlm"
      }
    },
    {
      "cell_type": "code",
      "source": [
        "num_sims = 150 # number of simulation\n",
        "num_flips = 30 # number of times to flip the coin\n",
        "\n",
        "result_list = [] # define the results as a list\n",
        "for sim in range(num_sims): # The simulation loop\n",
        "  coin_results = random.choices(coin_faces, k=num_flips) # Simulate all coin flips for one experiment\n",
        "  result_list += [ coin_results.count('H') ]\n",
        "\n",
        "\n",
        "# coin_results.count('H') counts how mant times 'H' appears in the coin_results single simulation\n",
        "# [coin_results.count('H')] wraps the count in a list\n",
        "# result_list += [coin_results.count('H')] appends the count of heads from each simulation to the result list"
      ],
      "metadata": {
        "id": "4ZHITLbVEk3x"
      },
      "execution_count": 9,
      "outputs": []
    },
    {
      "cell_type": "code",
      "source": [
        "# Import the pyplot module to the plt namespace from Matplotlib library\n",
        "import matplotlib.pyplot as plt"
      ],
      "metadata": {
        "id": "yQlyyhIcF2Vj"
      },
      "execution_count": 10,
      "outputs": []
    },
    {
      "cell_type": "markdown",
      "source": [
        "#### %matplotlib inline is not needed in Collab Notebooks because it automatically enables inline plotting by default."
      ],
      "metadata": {
        "id": "WmtZ1-49w1K4"
      }
    },
    {
      "cell_type": "code",
      "source": [
        "%matplotlib inline"
      ],
      "metadata": {
        "id": "6IQi_AokGq5g"
      },
      "execution_count": 11,
      "outputs": []
    },
    {
      "cell_type": "code",
      "source": [
        "# Generate scatter plot using plt.scatter()\n",
        "# Pass in two arguments (x-coordinates, y-coordinates)\n",
        "\n",
        "plt.scatter(range(num_sims), result_list); # Use range object since you are plotting against number of simulation\n",
        "plt.xlabel('Number of Simulation')\n",
        "plt.ylabel('Number of heads observed')\n",
        "plt.title('Simulation of no. of heads observed with 30 coin flips');"
      ],
      "metadata": {
        "colab": {
          "base_uri": "https://localhost:8080/",
          "height": 472
        },
        "id": "iGMAMMBHG2_7",
        "outputId": "2b1b2009-862c-4471-8a1a-42c87832b822"
      },
      "execution_count": 12,
      "outputs": [
        {
          "output_type": "display_data",
          "data": {
            "text/plain": [
              "<Figure size 640x480 with 1 Axes>"
            ],
            "image/png": "[encoded data removed]"
          },
          "metadata": {}
        }
      ]
    },
    {
      "cell_type": "code",
      "source": [
        "# Generate histogram using plt.hist()\n",
        "# Specify a list of bin edges\n",
        "# Best to make bins with one unit width and bin edges 0.5 units to each side of the bin centers\n",
        "\n",
        "# Use the NumPy function np.arange() to create a uniformly spaced array of points between two edges\n",
        "import numpy as np\n",
        "\n",
        "edges = np.arange(4.5,26.5, 1)\n",
        "print(edges)"
      ],
      "metadata": {
        "colab": {
          "base_uri": "https://localhost:8080/"
        },
        "id": "LxetyPKBJrrh",
        "outputId": "3610f4a1-67d1-4d37-bd9e-c0e1f35817d0"
      },
      "execution_count": 25,
      "outputs": [
        {
          "output_type": "stream",
          "name": "stdout",
          "text": [
            "[ 4.5  5.5  6.5  7.5  8.5  9.5 10.5 11.5 12.5 13.5 14.5 15.5 16.5 17.5\n",
            " 18.5 19.5 20.5 21.5 22.5 23.5 24.5 25.5]\n"
          ]
        }
      ]
    },
    {
      "cell_type": "code",
      "source": [
        "# Re-generate the histogram with the calculated bins\n",
        "plt.hist(result_list, bins = edges);"
      ],
      "metadata": {
        "colab": {
          "base_uri": "https://localhost:8080/",
          "height": 430
        },
        "id": "Igx3M7oWMbq4",
        "outputId": "994cf308-8272-48be-9a68-1c8ab6f974e7"
      },
      "execution_count": 26,
      "outputs": [
        {
          "output_type": "display_data",
          "data": {
            "text/plain": [
              "<Figure size 640x480 with 1 Axes>"
            ],
            "image/png": "[encoded data removed]"
          },
          "metadata": {}
        }
      ]
    },
    {
      "cell_type": "code",
      "source": [
        "plt.hist(result_list, bins = edges, edgecolor='black'); # Use edgecolor keyword with value black\n",
        "plt.yticks(np.arange(0, 26, 2)) # Specify the locations of the labeled \"ticks\" on the y-axis\n",
        "plt.grid(axis = 'y') # Add grid lines for the y-axis\n",
        "plt.xlabel('Number of heads')\n",
        "plt.ylabel('Number of occurences')\n",
        "plt.title('Histogram of Number of Heads in 30 Coin Flips out of 150 Simulations')"
      ],
      "metadata": {
        "colab": {
          "base_uri": "https://localhost:8080/",
          "height": 489
        },
        "id": "YCUTbweyNmfv",
        "outputId": "7101433b-bf80-433d-ec4d-25f5598ca39d"
      },
      "execution_count": 27,
      "outputs": [
        {
          "output_type": "execute_result",
          "data": {
            "text/plain": [
              "Text(0.5, 1.0, 'Histogram of Number of Heads in 30 Coin Flips out of 150 Simulations')"
            ]
          },
          "metadata": {},
          "execution_count": 27
        },
        {
          "output_type": "display_data",
          "data": {
            "text/plain": [
              "<Figure size 640x480 with 1 Axes>"
            ],
            "image/png": "[encoded data removed]"
          },
          "metadata": {}
        }
      ]
    },
    {
      "cell_type": "markdown",
      "source": [
        "### The counts of the outcomes can be used to estimate the probabilities of the outcomes after converting into relative frequencies"
      ],
      "metadata": {
        "id": "ZxjtalW0ybLc"
      }
    },
    {
      "cell_type": "markdown",
      "source": [
        "#### density=True normalises the histogram so that the area under the histogram sums to 1 which converts the histogram into a probability density function rather than just showing the raw counts of data in each bin"
      ],
      "metadata": {
        "id": "DV6EJ9Urz34q"
      }
    },
    {
      "cell_type": "code",
      "source": [
        "plt.hist(result_list, bins = edges, edgecolor = 'black', density = True ) # if the bins are 1 unit wide"
      ],
      "metadata": {
        "id": "hnolYlh5ysHU",
        "outputId": "413d3d3a-56ff-4b08-cf67-6d01d79a18c2",
        "colab": {
          "base_uri": "https://localhost:8080/",
          "height": 569
        }
      },
      "execution_count": 28,
      "outputs": [
        {
          "output_type": "execute_result",
          "data": {
            "text/plain": [
              "(array([0.        , 0.        , 0.00666667, 0.00666667, 0.01333333,\n",
              "        0.01333333, 0.04      , 0.08666667, 0.14666667, 0.14      ,\n",
              "        0.18      , 0.10666667, 0.08      , 0.09333333, 0.02666667,\n",
              "        0.04666667, 0.00666667, 0.00666667, 0.        , 0.        ,\n",
              "        0.        ]),\n",
              " array([ 4.5,  5.5,  6.5,  7.5,  8.5,  9.5, 10.5, 11.5, 12.5, 13.5, 14.5,\n",
              "        15.5, 16.5, 17.5, 18.5, 19.5, 20.5, 21.5, 22.5, 23.5, 24.5, 25.5]),\n",
              " <BarContainer object of 21 artists>)"
            ]
          },
          "metadata": {},
          "execution_count": 28
        },
        {
          "output_type": "display_data",
          "data": {
            "text/plain": [
              "<Figure size 640x480 with 1 Axes>"
            ],
            "image/png": "[encoded data removed]"
          },
          "metadata": {}
        }
      ]
    },
    {
      "cell_type": "code",
      "source": [
        "vals, counts = np.unique(result_list, return_counts = True)\n",
        "print(vals, counts)\n",
        "\n",
        "# Use NumPy to find the unique values in result_list and their corresponding counts"
      ],
      "metadata": {
        "colab": {
          "base_uri": "https://localhost:8080/"
        },
        "id": "Vfs1E3BK0t9B",
        "outputId": "683cd940-689c-409d-98df-a560b8c57608"
      },
      "execution_count": 30,
      "outputs": [
        {
          "output_type": "stream",
          "name": "stdout",
          "text": [
            "[ 7  8  9 10 11 12 13 14 15 16 17 18 19 20 21 22] [ 1  1  2  2  6 13 22 21 27 16 12 14  4  7  1  1]\n"
          ]
        }
      ]
    },
    {
      "cell_type": "code",
      "source": [
        "counts / counts.sum()\n",
        "# calculate relative frequencies by dividing counts by the sum of counts"
      ],
      "metadata": {
        "id": "nBcegvp11jSc",
        "outputId": "b0d8ec05-e859-4ed9-d4ce-ce6bd020bc82",
        "colab": {
          "base_uri": "https://localhost:8080/"
        }
      },
      "execution_count": 32,
      "outputs": [
        {
          "output_type": "execute_result",
          "data": {
            "text/plain": [
              "array([0.00666667, 0.00666667, 0.01333333, 0.01333333, 0.04      ,\n",
              "       0.08666667, 0.14666667, 0.14      , 0.18      , 0.10666667,\n",
              "       0.08      , 0.09333333, 0.02666667, 0.04666667, 0.00666667,\n",
              "       0.00666667])"
            ]
          },
          "metadata": {},
          "execution_count": 32
        }
      ]
    },
    {
      "cell_type": "markdown",
      "source": [
        "#### The relative frequency for 10 heads is 0.01333333 which is a good indication that oberserving 10 heads is rare\n",
        "\n",
        "#### Determining whether it is rare enough to conclude that the coin is fair or biased requires additional work"
      ],
      "metadata": {
        "id": "RLzJ7Kle20Ih"
      }
    },
    {
      "cell_type": "markdown",
      "source": [
        "### Establish a hypothesis first:\n",
        "\n",
        "#### Reject the possibility that the coin is fair if the probability of getting at most 10 heads from 30 coin flips is less than 5%."
      ],
      "metadata": {
        "id": "NcltZuw74Kn9"
      }
    },
    {
      "cell_type": "code",
      "source": [
        "import random\n",
        "\n",
        "random.seed(1324)\n",
        "\n",
        "coin_faces = ['H', 'T']\n",
        "\n",
        "num_sims = 150\n",
        "num_flips = 30\n",
        "\n",
        "threshold = 10\n",
        "\n",
        "for sim in range(num_sims):\n",
        "  coins = random.choices(coin_faces, k = num_flips)\n",
        "  num_heads = coins.count('H')\n",
        "  if num_heads <= threshold:\n",
        "    print(f'{sim:2} : {num_heads} heads')\n",
        "\n",
        "# Each line of the output indicates a simulation where the count of heads is within the specified threshold"
      ],
      "metadata": {
        "id": "YP0RP8o04b_B",
        "outputId": "d773ef10-2aac-4362-9386-9ffea19fdf48",
        "colab": {
          "base_uri": "https://localhost:8080/"
        }
      },
      "execution_count": 35,
      "outputs": [
        {
          "output_type": "stream",
          "name": "stdout",
          "text": [
            "11 : 8 heads\n",
            "91 : 10 heads\n",
            "96 : 7 heads\n",
            "119 : 10 heads\n",
            "124 : 10 heads\n"
          ]
        }
      ]
    },
    {
      "cell_type": "code",
      "source": [],
      "metadata": {
        "id": "6oc9ZGmE33Jg"
      },
      "execution_count": null,
      "outputs": []
    }
  ]
}